{
  "nbformat": 4,
  "nbformat_minor": 0,
  "metadata": {
    "colab": {
      "name": "Untitled13.ipynb",
      "provenance": []
    },
    "kernelspec": {
      "name": "python3",
      "display_name": "Python 3"
    },
    "language_info": {
      "name": "python"
    }
  },
  "cells": [
    {
      "cell_type": "code",
      "metadata": {
        "id": "eHviUImoBkMc"
      },
      "source": [
        "import numpy as np\n",
        "\n",
        "class ELM(object):  \n",
        "    \n",
        "    def __init__(self, inputSize, outputSize, hiddenSize):\n",
        "        \"\"\"\n",
        "        Initialize weight and bias between input layer and hidden layer\n",
        "        Parameters:\n",
        "        inputSize: int\n",
        "            The number of input layer dimensions or features in the training data\n",
        "        outputSize: int\n",
        "            The number of output layer dimensions\n",
        "        hiddenSize: int\n",
        "            The number of hidden layer dimensions        \n",
        "        \"\"\"    \n",
        "\n",
        "        self.inputSize = inputSize\n",
        "        self.outputSize = outputSize\n",
        "        self.hiddenSize = hiddenSize       \n",
        "        \n",
        "        # Initialize random weight with range [-0.5, 0.5]\n",
        "        self.weight = np.matrix(np.random.uniform(-0.5, 0.5, (self.hiddenSize, self.inputSize)))\n",
        "\n",
        "        # Initialize random bias with range [0, 1]\n",
        "        self.bias = np.matrix(np.random.uniform(0, 1, (1, self.hiddenSize)))\n",
        "        \n",
        "        self.H = 0\n",
        "        self.beta = 0\n",
        "\n",
        "    def sigmoid(self, x):\n",
        "        \"\"\"\n",
        "        Sigmoid activation function\n",
        "        \n",
        "        Parameters:\n",
        "        x: array-like or matrix\n",
        "            The value that the activation output will look for\n",
        "        Returns:      \n",
        "            The results of activation using sigmoid function\n",
        "        \"\"\"\n",
        "        return 1 / (1 + np.exp(-1 * x))\n",
        "\n",
        "    def predict(self, X):\n",
        "        \"\"\"\n",
        "        Predict the results of the training process using test data\n",
        "        Parameters:\n",
        "        X: array-like or matrix\n",
        "            Test data that will be used to determine output using ELM\n",
        "        Returns:\n",
        "            Predicted results or outputs from test data\n",
        "        \"\"\"\n",
        "        X = np.matrix(X)\n",
        "        y = self.sigmoid((X * self.weight.T) + self.bias) * self.beta\n",
        "\n",
        "        return y\n",
        "\n",
        "    def train(self, X, y):\n",
        "        \"\"\"\n",
        "        Extreme Learning Machine training process\n",
        "        Parameters:\n",
        "        X: array-like or matrix\n",
        "            Training data that contains the value of each feature\n",
        "        y: array-like or matrix\n",
        "            Training data that contains the value of the target (class)\n",
        "        Returns:\n",
        "            The results of the training process   \n",
        "        \"\"\"\n",
        "\n",
        "        X = np.matrix(X)\n",
        "        y = np.matrix(y)        \n",
        "        \n",
        "        # Calculate hidden layer output matrix (Hinit)\n",
        "        self.H = (X * self.weight.T) + self.bias\n",
        "\n",
        "        # Sigmoid activation function\n",
        "        self.H = self.sigmoid(self.H)\n",
        "\n",
        "        # Calculate the Moore-Penrose pseudoinverse matriks        \n",
        "        H_moore_penrose = np.linalg.inv(self.H.T * self.H) * self.H.T\n",
        "\n",
        "        # Calculate the output weight matrix beta\n",
        "        self.beta = H_moore_penrose * y\n",
        "\n",
        "        return self.H * self.beta"
      ],
      "execution_count": null,
      "outputs": []
    },
    {
      "cell_type": "code",
      "metadata": {
        "colab": {
          "base_uri": "https://localhost:8080/"
        },
        "id": "SSiIPGWKBlqB",
        "outputId": "363a1854-9d4a-44e0-d1fe-806a1f764e78"
      },
      "source": [
        "import numpy as np\n",
        "from sklearn import datasets\n",
        "from sklearn.model_selection import train_test_split\n",
        "from sklearn.metrics import accuracy_score\n",
        "\n",
        "# Create random classification datasets with 1000 samples\n",
        "data = datasets.make_classification(1000)\n",
        "\n",
        "# Create instance of ELM object with 10 hidden neuron\n",
        "elm = ELM(data[0].shape[1], 1, 10)\n",
        "\n",
        "# Train test split 80:20\n",
        "X_train, X_test, y_train, y_test = train_test_split(data[0], data[1], test_size=0.2)\n",
        "\n",
        "# Train data\n",
        "elm.train(X_train,y_train.reshape(-1,1))\n",
        "\n",
        "# Make prediction from training process\n",
        "y_pred = elm.predict(X_test)\n",
        "y_pred = (y_pred > 0.5).astype(int)\n",
        "\n",
        "print('Accuracy: ', accuracy_score(y_test, y_pred))"
      ],
      "execution_count": null,
      "outputs": [
        {
          "output_type": "stream",
          "name": "stdout",
          "text": [
            "Accuracy:  0.775\n"
          ]
        }
      ]
    }
  ]
}